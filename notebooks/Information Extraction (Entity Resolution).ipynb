{
 "cells": [
  {
   "cell_type": "markdown",
   "id": "f2737293-ae09-4f22-be88-3882aeeeeddd",
   "metadata": {},
   "source": [
    "<img src=\"data/images/lecture-notebook-header.png\" />"
   ]
  },
  {
   "cell_type": "markdown",
   "id": "eda97cea-dafa-4495-981f-d1a775bd502b",
   "metadata": {},
   "source": [
    "# Entity Resolution / Coreference Resolution\n",
    "\n",
    "**Entity resolution**, also known as record linkage or identity resolution, is the process of identifying and linking different records or data entries that refer to the same entity or individual across different data sources or within a single dataset. This process is crucial in situations where multiple records might pertain to the same real-world entity but are represented differently or contain errors, such as variations in spelling, abbreviations, missing information, or discrepancies. By employing various algorithms, statistical models, or machine learning techniques, entity resolution aims to accurately match and merge these disparate records, reducing redundancy and ensuring a more comprehensive and accurate view of the underlying entities or individuals within the data. It's commonly used in databases, data integration, fraud detection, customer relationship management, and other fields where data consolidation and accuracy are vital.\n",
    "\n",
    "Closely related, **coreference resolution** is the task of identifying all the expressions in a text that refer to the same entity. Coreference resolution is important for understanding the meaning of a text and is a crucial component in many applications such as question answering, summarization, and sentiment analysis. This task can be challenging because it involves dealing with a wide range of linguistic phenomena, such as anaphora, bridging references, and appositives. Various techniques have been developed for coreference resolution, including rule-based approaches, statistical models, and deep learning models. Coreference resolution has many practical applications, including information extraction, summarization, and machine translation. By correctly identifying all the expressions that refer to the same entity, coreference resolution can improve the accuracy and effectiveness of these applications."
   ]
  },
  {
   "cell_type": "markdown",
   "id": "082aa9ea-dd51-4569-baba-3d12b12d2b89",
   "metadata": {},
   "source": [
    "## Setting up the Notebook\n",
    "\n",
    "This notebook also requires the [`coreferee`](https://spacy.io/universe/project/coreferee) package to extend the capabilities of `spacy` to perform coreference resolution."
   ]
  },
  {
   "cell_type": "code",
   "execution_count": null,
   "id": "713a0756-5367-4bb6-a206-9ffa2f060180",
   "metadata": {},
   "outputs": [],
   "source": [
    "import spacy\n",
    "import coreferee\n",
    "\n",
    "from spacy import displacy"
   ]
  },
  {
   "cell_type": "code",
   "execution_count": null,
   "id": "a3cd3ab1-0528-49de-bd5a-66094ec91fa3",
   "metadata": {},
   "outputs": [],
   "source": [
    "nlp = spacy.load(\"en_core_web_lg\")\n",
    "\n",
    "nlp.add_pipe('coreferee')"
   ]
  },
  {
   "cell_type": "markdown",
   "id": "b9eb11a9-37a0-46ae-8f45-9b85480b876d",
   "metadata": {},
   "source": [
    "---"
   ]
  },
  {
   "cell_type": "markdown",
   "id": "d1779141-d073-41fc-9b8a-af2571415ee0",
   "metadata": {},
   "source": [
    "## Performing Coreference Resolution with spaCy\n",
    "\n",
    "Once you have installed the require package and language model, you can use spaCy as usual to analyze your input text -- like the example we use in the lecture:\n"
   ]
  },
  {
   "cell_type": "code",
   "execution_count": null,
   "id": "bdaf0264-829e-423f-b649-d4c6592a5b4d",
   "metadata": {},
   "outputs": [],
   "source": [
    "text = \"When Neil Armstrong stepped on the moon, he said: \\\"That's one small step for a man, one giant leap for mankind.\\\" Then he jumped from the last step onto the moon's surface.\"\n",
    "\n",
    "# This example contains pronouns that refer the multiple entities; the code below should be able to handle this as well\n",
    "#text = \"When Alice and Bob felt hungry, they went to restaurant which was nearest to them.\"\n",
    "\n",
    "# Analyze text using spaCy including coreference resolution\n",
    "doc = nlp(text)\n",
    "\n",
    "# Print coreference chains (i.e., sets of token referring to the same entity)\n",
    "doc._.coref_chains.print()"
   ]
  },
  {
   "cell_type": "markdown",
   "id": "858680e7-bfeb-41f1-84e2-79446cf4d516",
   "metadata": {},
   "source": [
    "The code cell below shows an example how we can get the resolution (i.e., the head of a coreference chain) for word identified by its position -- from the output of the previous code above, we already know that at position 8 is the pronoun *\"he\"* referring to *\"Armstrong\"*."
   ]
  },
  {
   "cell_type": "code",
   "execution_count": null,
   "id": "fa1e6df2-461d-4821-93f8-5111d5e896e8",
   "metadata": {},
   "outputs": [],
   "source": [
    "print(doc._.coref_chains.resolve(doc[8]))"
   ]
  },
  {
   "cell_type": "markdown",
   "id": "f4ae0fd8-4dd5-418a-8ad4-2253e833dc2c",
   "metadata": {},
   "source": [
    "---"
   ]
  },
  {
   "cell_type": "markdown",
   "id": "f4b4b1d0-c96e-4a17-9d57-aa3bacbbc304",
   "metadata": {},
   "source": [
    "## Replace all Singular Pronouns\n",
    "\n",
    "As a concrete application, let's look at the task of replacing all pronouns with the respective mention. This could be seen as some kind of text simplification or text clarification task. While a statement like \"Alice likes pizza. She had one for dinner.\" is very easy to understand, it can be tricky for non-native speakers or otherwise reading-impaired people. Thus, having the alternative \"Alice likes pizza. Alice had a pizza for dinner\" can help such people a lot.\n",
    "\n",
    "### Identify all Singular Pronouns\n",
    "\n",
    "Although coreference resolution aims to find all mentions in a text that are coreferent, here we focus only on replacing pronouns. This means that we first have to identify all pronouns. And not only do we want pronouns, we also want all other mentions that are coreferent."
   ]
  },
  {
   "cell_type": "code",
   "execution_count": null,
   "id": "7f14b8dc-ba49-41c1-956d-418f263451aa",
   "metadata": {},
   "outputs": [],
   "source": [
    "pronoun_to_resolution = {}\n",
    "\n",
    "for idx, token in enumerate(doc):\n",
    "    \n",
    "    # If the current token is not a pronoun, ignore this token and continue\n",
    "    if token.pos_ != 'PRON':\n",
    "        continue\n",
    "       \n",
    "    # Get the resolution (i.e., the head of a coreference chain) for the current pronoun.\n",
    "    resolution = doc._.coref_chains.resolve(token)\n",
    "    \n",
    "    # If this was successful, add resolution to the mapping for later use\n",
    "    if resolution is not None:\n",
    "        pronoun_to_resolution[idx] = resolution\n",
    "    \n",
    "    \n",
    "print(pronoun_to_resolution)"
   ]
  },
  {
   "cell_type": "markdown",
   "id": "046cd925-4cfd-4adf-b6c9-a05122e931f4",
   "metadata": {},
   "source": [
    "### Expand Resolutions to Compound Nouns\n",
    "\n",
    "So far the resolution is only a single token (here *\"Armstrong\"*). However, we now that the foll resolution is the compound *\"Neil Armstrong\"*. We therefore first need to extract all complete compounds before we can meaningfully replace a pronoun. Luckily, we already looked into this problem in the notebook \"Parsing (Dependency Parsing)\" where we saw how we can use the dependencies between words to find all compounds. The code cell below contains the same method `get_compound()` we already implemented in this other notebook.\n"
   ]
  },
  {
   "cell_type": "code",
   "execution_count": null,
   "id": "5631768c-fc47-4657-8204-667882110b64",
   "metadata": {},
   "outputs": [],
   "source": [
    "def get_compound(token, compound_parts=[]):\n",
    "\n",
    "    # Loop over all children of the token\n",
    "    for child in token.children:\n",
    "        # We are only interested in the \"compound\" relationship\n",
    "        if child.dep_ == \"compound\":\n",
    "            # Call method recursively on the child token\n",
    "            get_compound(child, compound_parts=compound_parts)\n",
    "    \n",
    "    # Add the token itself to the list\n",
    "    compound_parts.append(token)"
   ]
  },
  {
   "cell_type": "markdown",
   "id": "a949d08c-651e-4f3a-9055-ca8990f8e511",
   "metadata": {},
   "source": [
    "With this method, we can now go through all resolutions and extract all compounds; the code cell below accomplishes this."
   ]
  },
  {
   "cell_type": "code",
   "execution_count": null,
   "id": "f39cbe67-9925-482b-b7e3-7ab36419ef29",
   "metadata": {},
   "outputs": [],
   "source": [
    "pronoun_to_resolution_strings = {}\n",
    "\n",
    "for pronoun_idx, resolutions in pronoun_to_resolution.items():\n",
    "    resolution_strings = []\n",
    "    for res in resolutions:\n",
    "        # Identify compounds\n",
    "        compound_parts = []\n",
    "        get_compound(doc[res.i], compound_parts=compound_parts)\n",
    "        compound_string = ' '.join([t.text for t in compound_parts])\n",
    "        # Add compound to list of resolution strings\n",
    "        resolution_strings.append(compound_string)\n",
    "    # Add new compound as resolution for current peonoun\n",
    "    pronoun_to_resolution_strings[pronoun_idx] = resolution_strings\n",
    "    \n",
    "print(pronoun_to_resolution_strings)"
   ]
  },
  {
   "cell_type": "markdown",
   "id": "28a397ea-fb0d-49e4-a74d-54e6590527bd",
   "metadata": {},
   "source": [
    "### Replace Pronouns with a \"Suitable\" Alternative\n",
    "\n",
    "Now that we found all pronouns (incl. their position in the text) and their resolutions, we can perform the actual replacement. The only thing we need to consider is that the resolution/replacement may contain more than one word. This means, in case of multiple pronouns to be replaced, the first replacement will shift the position of subsequent pronouns. The variable `offset` keeps track of this."
   ]
  },
  {
   "cell_type": "code",
   "execution_count": null,
   "id": "d0f2d2b0-ae7e-45e6-98ce-c2cf82ede41a",
   "metadata": {},
   "outputs": [],
   "source": [
    "# If we need to replace multiple pronouns -- which often means to replace that single word with a multiterm phrase -- \n",
    "# we need to keep track of an offset to get the indices right; otherwise we replace the wrong bits in the sentence\n",
    "offset = 0\n",
    "\n",
    "# Let's initialize the sentence as the list of tokens/words form the original sentence\n",
    "words = [t.text for t in doc]\n",
    "\n",
    "# Loop over each pronound we found and make the replacement\n",
    "for pronoun_idx, resolution_strings in pronoun_to_resolution_strings.items():\n",
    "    \n",
    "    # If we have a plural pronoun, we concatenate all resolutions with \"and\"\n",
    "    replacement = ' and '.join(resolution_strings)\n",
    "    # Instead of the string, it's easier to work with the list of words\n",
    "    replacement = replacement.split(' ')\n",
    "\n",
    "    # Words before the pronoun + replacement + words after the pronoun\n",
    "    words = words[:pronoun_idx+offset] + [ t for t in replacement ] + words[pronoun_idx+1+offset:]\n",
    "    \n",
    "    # Update offset\n",
    "    offset += len(replacement) - 1\n",
    "    \n",
    "    \n",
    "print(' '.join(words))    "
   ]
  },
  {
   "cell_type": "markdown",
   "id": "4a4cc4c7-1130-410c-8c7b-8ef235edffeb",
   "metadata": {},
   "source": [
    "And now it sounds like Dobby the house elf :)."
   ]
  },
  {
   "cell_type": "markdown",
   "id": "8078f25e-8630-4bd4-a0e3-5107d5692433",
   "metadata": {},
   "source": [
    "---"
   ]
  },
  {
   "cell_type": "markdown",
   "id": "9eee1585-151a-4779-ba50-75ed835bded2",
   "metadata": {},
   "source": [
    "## Summary\n",
    "\n",
    "Coreference resolution is an essential natural language processing (NLP) task aimed at identifying and linking words or expressions within a text that refer to the same entity or concept. The primary goal is to resolve references like pronouns (he, she, it) or noun phrases (names, titles) to their corresponding entities, enabling a deeper understanding of textual context.\n",
    "\n",
    "Uses and applications of coreference resolution encompass several critical areas:\n",
    "\n",
    "* **Document Understanding:** Coreference resolution enhances document comprehension by disambiguating references, enabling systems to discern relationships between entities across sentences or paragraphs. It aids in creating cohesive representations of text, improving information extraction and summarization.\n",
    "\n",
    "* **Question Answering and Information Retrieval:** In question-answering systems, resolving coreferences assists in finding relevant information by linking pronouns or references in questions to their appropriate entities in the text. Similarly, in information retrieval tasks, coreference resolution enhances search accuracy by ensuring retrieved documents contain relevant information despite varying references to entities.\n",
    "\n",
    "* **Machine Translation and Text Generation:** Coreference resolution contributes to improving machine translation systems by maintaining consistency in translations, especially when dealing with pronouns or ambiguous references. In text generation tasks like summarization or dialogue systems, coreference resolution helps in generating coherent and natural-sounding text by ensuring consistency in references throughout the generated content.\n",
    "\n",
    "* **Entity Linking and Knowledge Graph Construction:** By resolving coreferences, it aids in entity linking, connecting mentions of entities in text to entries in knowledge bases or ontologies. This is crucial in constructing accurate knowledge graphs that represent relationships between entities.\n",
    "\n",
    "In essence, coreference resolution is pivotal in numerous NLP applications, playing a critical role in document understanding, information retrieval, machine translation, text generation, entity linking, and knowledge representation. By disambiguating references and establishing connections between entities, it significantly enhances the depth and accuracy of language understanding systems across various domains and applications."
   ]
  },
  {
   "cell_type": "code",
   "execution_count": null,
   "id": "07a55971-8eb3-4f59-9201-86160cd7df90",
   "metadata": {},
   "outputs": [],
   "source": []
  }
 ],
 "metadata": {
  "kernelspec": {
   "display_name": "Python [conda env:py310]",
   "language": "python",
   "name": "conda-env-py310-py"
  },
  "language_info": {
   "codemirror_mode": {
    "name": "ipython",
    "version": 3
   },
   "file_extension": ".py",
   "mimetype": "text/x-python",
   "name": "python",
   "nbconvert_exporter": "python",
   "pygments_lexer": "ipython3",
   "version": "3.10.13"
  }
 },
 "nbformat": 4,
 "nbformat_minor": 5
}
