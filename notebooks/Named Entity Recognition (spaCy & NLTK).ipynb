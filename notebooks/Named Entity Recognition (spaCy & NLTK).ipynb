{
 "cells": [
  {
   "cell_type": "markdown",
   "id": "b7a7a215-f64a-4b41-8add-3f65df04912f",
   "metadata": {},
   "source": [
    "<img src=\"data/images/lecture-notebook-header.png\" />"
   ]
  },
  {
   "cell_type": "markdown",
   "id": "3f937aa7-8601-4bee-ac1e-91537f43bf0c",
   "metadata": {},
   "source": [
    "# Named Entity Recognition\n",
    "\n",
    "Named Entity Recognition (NER) is a natural language processing (NLP) technique used to identify and classify named entities within text into predefined categories such as names of persons, organizations, locations, dates, quantities, and more. The primary goal of NER is to extract and categorize specific entities mentioned in text. NER is useful for several reasons:\n",
    "\n",
    "* **Information Extraction:** It helps extract structured information from unstructured text, enabling systems to understand the meaning and context of text data better.\n",
    "\n",
    "* **Entity Classification:** NER categorizes entities into predefined types, aiding in information retrieval, analysis, and organization. For example, identifying names of people, organizations, or locations within news articles can facilitate better indexing and search functionalities.\n",
    "\n",
    "* **Enhancing Search and Retrieval:** By identifying and categorizing named entities, NER improves the accuracy and relevance of search results. It helps search engines retrieve documents or information more precisely based on the types of entities a user is interested in.\n",
    "\n",
    "* **Relation Extraction:** NER serves as a foundation for more complex tasks like relation extraction, where the connections or relationships between different entities are analyzed. For instance, understanding the relationships between companies and their CEOs from news articles.\n",
    "\n",
    "* **Information Summarization:** NER assists in summarizing text by highlighting or focusing on important entities. It aids in generating concise summaries by identifying key persons, locations, or events within a document.\n",
    "\n",
    "* **Domain-specific Applications:** In various domains like healthcare, finance, legal, and more, NER is essential for extracting specific entities crucial for domain-specific analysis or compliance requirements.\n",
    "\n",
    "Overall, Named Entity Recognition is a fundamental NLP task that plays a crucial role in extracting, categorizing, and understanding named entities within text data. Its applications span across diverse fields, contributing significantly to information retrieval, analysis, and knowledge extraction from textual content."
   ]
  },
  {
   "cell_type": "markdown",
   "id": "71bcc92d-096e-45c4-b15a-43c21f9e539c",
   "metadata": {},
   "source": [
    "## Setting up the Notebook"
   ]
  },
  {
   "cell_type": "markdown",
   "id": "660fcfa6-d15b-4cd4-82a0-c05cdee6162d",
   "metadata": {},
   "source": [
    "### spaCy packages & Language Models"
   ]
  },
  {
   "cell_type": "code",
   "execution_count": 1,
   "id": "dacda4bd-82ad-4fbb-a0d9-91ece4a9aee6",
   "metadata": {},
   "outputs": [],
   "source": [
    "import spacy\n",
    "from spacy import displacy\n",
    "\n",
    "nlp = spacy.load(\"en_core_web_sm\")\n",
    "#nlp = spacy.load(\"en_core_web_lg\")\n",
    "#nlp = spacy.load(\"en_core_web_trf\")"
   ]
  },
  {
   "cell_type": "markdown",
   "id": "d66e5112-b4bd-4b02-9850-94cb8122d615",
   "metadata": {},
   "source": [
    "### NLTK Packages"
   ]
  },
  {
   "cell_type": "code",
   "execution_count": 2,
   "id": "7fe38929-2dc7-48ac-b7e4-9f8489d0a6f4",
   "metadata": {},
   "outputs": [],
   "source": [
    "import nltk\n",
    "from nltk.tokenize import word_tokenize\n",
    "from nltk.tag import pos_tag"
   ]
  },
  {
   "cell_type": "markdown",
   "id": "af77a7a5-fb60-422a-ba56-55d5ffaafc4d",
   "metadata": {},
   "source": [
    "### Example Sentences"
   ]
  },
  {
   "cell_type": "code",
   "execution_count": null,
   "id": "bffe64e4-9aa4-40fc-baa2-1f0bc8a312ea",
   "metadata": {},
   "outputs": [],
   "source": [
    "text = \"Musk bought Twitter, headquartered in  San Francisco, in October 2022 for the amount of $44 Billion to avoid trial.\"\n",
    "#text = \"Alice is watching The Dark Night\"\n",
    "#text = \"Washington was born into slavery on a farm of James Burroughs.\"\n",
    "#text = \"Washington went up 2 games to 1 in the four-game series.\"\n",
    "#text = \"Bob arrived in Washington for what may well be his last state visit.\"\n",
    "#text = \"The Washington had proved to be a leaky ship.\"\n",
    "#text = \"Musk bought Twitter in October 2022 for $44 Billion.\"\n",
    "#text = \"Microsoft was founded by Bill Gates and Paul Alan in 1975.\"\n",
    "#text = \"Bob flew to New York.\"\n",
    "#text = \"Leonhard Euler was born on 15 April 1707, in Basel, Switzerland.\"\n",
    "#text = \"Not long ago, I met with Alice in a restaurant to discuss the upcoming business travel to Australia after the semester\""
   ]
  },
  {
   "cell_type": "markdown",
   "id": "89a04574-8e68-4968-89f5-29d4b36ae03a",
   "metadata": {},
   "source": [
    "## NER with spaCy\n",
    "\n",
    "spaCy is a popular Python library used for natural language processing, including named entity recognition (NER). Here are the general steps to perform NER with spaCy: Firstly, we parse and analyze our text. This includes that named entities are identified by default.\n",
    "\n",
    "**Side note:** If no NER is required, this step can be switched off to improve the performance of spaCy when analyzing a document.\n"
   ]
  },
  {
   "cell_type": "code",
   "execution_count": null,
   "id": "2af505f5-e066-48ab-b844-c2e2ed896a17",
   "metadata": {},
   "outputs": [],
   "source": [
    "doc = nlp(text)\n",
    "\n",
    "for t in doc:\n",
    "    print(t, t.is_stop)"
   ]
  },
  {
   "cell_type": "raw",
   "id": "ca419a88-0ce1-4db9-85c6-6f488cf14c5d",
   "metadata": {},
   "source": [
    "All identified entities are recorded in `doc.ents` which we can loop over or print all named entities and their respective labels."
   ]
  },
  {
   "cell_type": "code",
   "execution_count": null,
   "id": "f523b21a-63ea-40e7-afed-f0443fd3c8be",
   "metadata": {},
   "outputs": [],
   "source": [
    "for ent in doc.ents:\n",
    "    print(ent.text, ent.label_)"
   ]
  },
  {
   "cell_type": "markdown",
   "id": "bf423553-175f-4733-945e-71368355f992",
   "metadata": {},
   "source": [
    "spaCy comes with a series of [visualizers](https://spacy.io/usage/visualizers), including one for highlighting named entities. Let's give it a go:"
   ]
  },
  {
   "cell_type": "code",
   "execution_count": null,
   "id": "ebf12431-6c22-4365-9a50-fc61941f2635",
   "metadata": {},
   "outputs": [],
   "source": [
    "displacy.render(doc, style=\"ent\")"
   ]
  },
  {
   "cell_type": "markdown",
   "id": "9d672f47-10fd-4a98-adc8-7102729bca4a",
   "metadata": {},
   "source": [
    "As you can see, spaCy makes Named Entity Recognition very easy to use as it is an in-built feature. Apart from using the available NER model, spaCy also allows you to train your own models on custom data. This can be useful if your named entities are very domain specific and the default model performs poorly on that data. However, training a custom model with spaCy is beyond the scope of this notebook."
   ]
  },
  {
   "cell_type": "markdown",
   "id": "82ce1fd3-3f69-41ef-8c10-fcbbb2590b71",
   "metadata": {},
   "source": [
    "## NER with NLTK\n",
    "\n",
    "NLTK (Natural Language Toolkit) is a popular Python library for natural language processing, which includes tools for named entity recognition (NER). Compared to spaCy, NLTK requires some more individual steps to perform NER out of the box: First we need to tokenize our input text and perform POS tagging.\n"
   ]
  },
  {
   "cell_type": "code",
   "execution_count": null,
   "id": "82ea5ee6-9e42-46c8-a41c-c27927b386ab",
   "metadata": {},
   "outputs": [],
   "source": [
    "raw_words= word_tokenize(text)\n",
    "tags= pos_tag(raw_words)"
   ]
  },
  {
   "cell_type": "markdown",
   "id": "f466b5be-c0ed-4c0c-ac52-4ab2df54187d",
   "metadata": {},
   "source": [
    "With the POS tags, we can identify the named entity chunks, which essentially performs NER. Note that setting `binary=True` will only identify the named entity chunks but not their types. If we want to distinguish between different types (e.g., PERSON, GPE, etc.), we need to set `binary=False` (which is also the default value)."
   ]
  },
  {
   "cell_type": "code",
   "execution_count": null,
   "id": "846ceabd-a582-4ee3-80d0-9d38cfbeac9b",
   "metadata": {},
   "outputs": [],
   "source": [
    "ne_chunks = nltk.ne_chunk(tags, binary=False)\n",
    "print(ne_chunks)"
   ]
  },
  {
   "cell_type": "markdown",
   "id": "7f57cf8c-4e2e-41ef-9e7f-806cf3e8dc03",
   "metadata": {},
   "source": [
    "We can now loop through the identify chunks to return the identified named entities:"
   ]
  },
  {
   "cell_type": "code",
   "execution_count": null,
   "id": "3493c8b1-90d9-44c7-9496-f2ab2b0750e4",
   "metadata": {},
   "outputs": [],
   "source": [
    "for chunk in ne_chunks:\n",
    "    # Only print chunks that are named entities\n",
    "    if hasattr(chunk, 'label'):\n",
    "        print(chunk.label(), ' '.join(c[0] for c in chunk))"
   ]
  },
  {
   "cell_type": "markdown",
   "id": "6ac3e1bb-80bd-450f-b027-efe2227e139a",
   "metadata": {},
   "source": [
    "The results are arguably not that great (compared to spaCy). Firstly, NLTK is missing some of the named entities that spaCy gave us. And secondly, NLTK considers \"Twitter\" as a PERSON. Clearly, the model that comes with NLTK is less sophisticated than the one of spaCy. Note, however, that the focus of NLTK is to provide a toolbox for users to train their own models, while spaCy does aim to offer state-of-the-art performance out of the box."
   ]
  },
  {
   "cell_type": "markdown",
   "id": "d51d946b-7dda-4159-9def-7c47fd48e40d",
   "metadata": {},
   "source": [
    "---"
   ]
  },
  {
   "cell_type": "markdown",
   "id": "2ec29a1d-49bd-4a87-bc77-1ebedbaca466",
   "metadata": {},
   "source": [
    "## Summary\n",
    "\n",
    "Both Spacy and NLTK are popular Python libraries used for natural language processing tasks, including named entity recognition (NER). However, there are some differences in their approaches to NER.\n",
    "\n",
    "* Spacy is a modern and efficient library that relies on deep learning models to perform NER. It is designed to be fast and scalable, and provides pre-trained models for multiple languages. Spacy also allows users to train their own custom models for NER using labeled data. Spacy's NER is considered to be highly accurate and is used in various industries and applications.\n",
    "\n",
    "* NLTK, on the other hand, is an older library that relies on rule-based approaches for NER. It provides pre-trained models for English and other languages, and allows users to customize the rules for NER. NLTK's NER may not be as accurate as Spacy's NER, but it can still be useful for certain tasks and applications.\n",
    "\n",
    "In summary, Spacy is a powerful and modern library for NER that relies on deep learning models, while NLTK is an older library that uses rule-based approaches. Both libraries have their strengths and weaknesses, and the choice of which library to use may depend on the specific requirements and constraints of a project.\n"
   ]
  },
  {
   "cell_type": "code",
   "execution_count": null,
   "id": "b1c9c2aa-8699-4422-9776-527e82bd1f5f",
   "metadata": {},
   "outputs": [],
   "source": []
  }
 ],
 "metadata": {
  "kernelspec": {
   "display_name": "Python [conda env:cs5246]",
   "language": "python",
   "name": "conda-env-cs5246-py"
  },
  "language_info": {
   "codemirror_mode": {
    "name": "ipython",
    "version": 3
   },
   "file_extension": ".py",
   "mimetype": "text/x-python",
   "name": "python",
   "nbconvert_exporter": "python",
   "pygments_lexer": "ipython3",
   "version": "3.10.13"
  }
 },
 "nbformat": 4,
 "nbformat_minor": 5
}
